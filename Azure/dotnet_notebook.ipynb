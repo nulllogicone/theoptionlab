{
 "metadata": {
  "kernelspec": {
   "display_name": ".NET (C#)",
   "language": "C#",
   "name": ".net-csharp"
  },
  "language_info": {
   "name": "C#"
  }
 },
 "cells": [
  {
   "cell_type": "markdown",
   "source": [
    "# Option Lab Interactive\r\n",
    "\r\n",
    "## Notebook to explore"
   ],
   "metadata": {}
  },
  {
   "cell_type": "markdown",
   "source": [
    "# First three tasks are setup\r\n",
    "\r\n",
    "- Install NuGet package for TableStorage\r\n",
    "- using declaration\r\n",
    "- class definition for OptionDataEntity"
   ],
   "metadata": {}
  },
  {
   "cell_type": "code",
   "execution_count": null,
   "source": [
    "// install NuGet for TableStorage\r\n",
    "#r \"nuget: Microsoft.Azure.Cosmos.Table\""
   ],
   "outputs": [],
   "metadata": {
    "dotnet_interactive": {
     "language": "csharp"
    }
   }
  },
  {
   "cell_type": "code",
   "execution_count": null,
   "source": [
    "// using declaration\r\n",
    "using Microsoft.Azure.Cosmos.Table;\r\n",
    "using System.Text.Json;\r\n",
    "\r\n",
    "// Json formatting options\r\n",
    "var jsonOptions = new JsonSerializerOptions { WriteIndented = true };"
   ],
   "outputs": [],
   "metadata": {
    "dotnet_interactive": {
     "language": "csharp"
    }
   }
  },
  {
   "cell_type": "code",
   "execution_count": null,
   "source": [
    "// class definition\r\n",
    "public class OptionDataRecord : TableEntity\r\n",
    "{\r\n",
    "    // PartitionKey and RowKey must be set before using an instance\r\n",
    "    // PartitionKey = <underlying_symbol>+<option_type> (example)\r\n",
    "    // RowKey = <quote_date>\r\n",
    "\r\n",
    "    /// <summary>\r\n",
    "    /// Where does the record come from? \r\n",
    "    /// </summary>\r\n",
    "    public string Source { get; set; }\r\n",
    "\r\n",
    "    // All properties below come from the data csv import\r\n",
    "    // TODO: Nicer mapping to dotnet names\r\n",
    "    public string underlying_symbol { get; set; }\r\n",
    "    public string quote_date { get; set; }\r\n",
    "    public string root { get; set; }\r\n",
    "    public string expiration { get; set; }\r\n",
    "    public string strike { get; set; }\r\n",
    "    public string option_type { get; set; }\r\n",
    "    public double open { get; set; }           // todo: what are the data types?\r\n",
    "    public string high { get; set; }\r\n",
    "    public string low { get; set; }\r\n",
    "    public string close { get; set; }\r\n",
    "    public string trade_volume { get; set; }\r\n",
    "    public string bid_size_1545 { get; set; }\r\n",
    "    public string bid_1545 { get; set; }\r\n",
    "    public string ask_size_1545 { get; set; }\r\n",
    "    public string ask_1545 { get; set; }\r\n",
    "    public string underlying_bid_1545 { get; set; }\r\n",
    "    public string underlying_ask_1545 { get; set; }\r\n",
    "    public string bid_size_eod { get; set; }\r\n",
    "    public string bid_eod { get; set; }\r\n",
    "    public string ask_size_eod { get; set; }\r\n",
    "    public double ask_eod { get; set; }\r\n",
    "    public string underlying_bid_eod { get; set; }\r\n",
    "    public string underlying_ask_eod { get; set; }\r\n",
    "    public string vwap { get; set; }\r\n",
    "    public string open_interest { get; set; }\r\n",
    "    public string delivery_code { get; set; }\r\n",
    "}"
   ],
   "outputs": [],
   "metadata": {
    "dotnet_interactive": {
     "language": "csharp"
    }
   }
  },
  {
   "cell_type": "markdown",
   "source": [
    "# Here comes the code\r\n",
    "\r\n",
    "The following lines should demonstrate how to get a Table Storage Entity (record).  \r\n",
    "It runs in Functions or any other dotnet core application you just need a configured \r\n",
    "environment variable for `OptionDataTableStorage` (SasUri)\r\n",
    "> https://<account_name>.table.core.windows.net/optiondata?st=2021-07-22T19%3A57%3A01Z&se=2021-08-23T19%3A57%3A00Z&sp=raud&sv=2018-03-28&tn=optiondata&sig=5QqpbDxxxxxxxx"
   ],
   "metadata": {}
  },
  {
   "cell_type": "code",
   "execution_count": null,
   "source": [
    "\r\n",
    "var TableStorageSasUrl = Environment.GetEnvironmentVariable(\"OptionDataTableStorage\");\r\n",
    "var table = new CloudTable(new Uri(TableStorageSasUrl));\r\n",
    "var query = new TableQuery<OptionDataRecord>().Take(1);\r\n",
    "var first = table.ExecuteQuery(query);\r\n",
    "\r\n",
    "Console.WriteLine(JsonSerializer.Serialize(first, jsonOptions));"
   ],
   "outputs": [],
   "metadata": {
    "dotnet_interactive": {
     "language": "csharp"
    }
   }
  },
  {
   "cell_type": "markdown",
   "source": [
    "# Can we continue?\r\n",
    "\r\n",
    "And simply query interactively the underlying data?"
   ],
   "metadata": {}
  },
  {
   "cell_type": "code",
   "execution_count": null,
   "source": [
    "var threeKeysQuery = new TableQuery<OptionDataRecord>()\r\n",
    "    .Take(3);\r\n",
    "var threeKeys = table.ExecuteQuery(threeKeysQuery);\r\n",
    "DisplayExtensions.Display(threeKeys);"
   ],
   "outputs": [
    {
     "output_type": "display_data",
     "data": {
      "text/html": [
       "<table><thead><tr><th><i>index</i></th><th>Source</th><th>underlying_symbol</th><th>quote_date</th><th>root</th><th>expiration</th><th>strike</th><th>option_type</th><th>open</th><th>high</th><th>low</th><th>close</th><th>trade_volume</th><th>bid_size_1545</th><th>bid_1545</th><th>ask_size_1545</th><th>ask_1545</th><th>underlying_bid_1545</th><th>underlying_ask_1545</th><th>bid_size_eod</th><th>bid_eod</th><th>..</th></tr></thead><tbody><tr><td>0</td><td><div class=\"dni-plaintext\">&lt;null&gt;</div></td><td>A</td><td>2017-11-30</td><td>A</td><td>2017-12-15</td><td>50.000</td><td>C</td><td><div class=\"dni-plaintext\">0</div></td><td>0.0000</td><td>0.0000</td><td>0.0000</td><td>0</td><td>123</td><td>18.9000</td><td>116</td><td>19.4500</td><td>69.1400</td><td>69.1500</td><td>10</td><td>17.2000</td></tr><tr><td>1</td><td><div class=\"dni-plaintext\">&lt;null&gt;</div></td><td>A</td><td>2017-11-30</td><td>A</td><td>2017-12-15</td><td>65.000</td><td>C</td><td><div class=\"dni-plaintext\">4.35</div></td><td>4.3500</td><td>4.3500</td><td>4.3500</td><td>9</td><td>132</td><td>4.2500</td><td>116</td><td>4.3500</td><td>69.1400</td><td>69.1500</td><td>120</td><td>4.2000</td></tr><tr><td>2</td><td><div class=\"dni-plaintext\">&lt;null&gt;</div></td><td>A</td><td>2017-11-30</td><td>A</td><td>2017-12-15</td><td>67.500</td><td>C</td><td><div class=\"dni-plaintext\">2.05</div></td><td>2.1800</td><td>2.0500</td><td>2.1800</td><td>5</td><td>14</td><td>2.1100</td><td>25</td><td>2.1500</td><td>69.1400</td><td>69.1500</td><td>352</td><td>2.0400</td></tr></tbody></table>"
      ]
     },
     "metadata": {}
    }
   ],
   "metadata": {
    "dotnet_interactive": {
     "language": "csharp"
    }
   }
  },
  {
   "cell_type": "code",
   "execution_count": null,
   "source": [],
   "outputs": [],
   "metadata": {
    "dotnet_interactive": {
     "language": "csharp"
    }
   }
  }
 ],
 "nbformat": 4,
 "nbformat_minor": 2
}